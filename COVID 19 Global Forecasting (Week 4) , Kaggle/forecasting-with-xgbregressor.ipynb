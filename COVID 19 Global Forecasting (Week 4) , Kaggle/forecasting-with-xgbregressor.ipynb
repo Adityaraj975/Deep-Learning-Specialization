{
 "cells": [
  {
   "cell_type": "code",
   "execution_count": 1,
   "metadata": {
    "_cell_guid": "b1076dfc-b9ad-4769-8c92-a6c4dae69d19",
    "_uuid": "8f2839f25d086af736a60e9eeb907d3b93b6e0e5"
   },
   "outputs": [
    {
     "name": "stdout",
     "output_type": "stream",
     "text": [
      "/kaggle/input/covid19-global-forecasting-week-4/train.csv\n",
      "/kaggle/input/covid19-global-forecasting-week-4/submission.csv\n",
      "/kaggle/input/covid19-global-forecasting-week-4/test.csv\n"
     ]
    }
   ],
   "source": [
    "# This Python 3 environment comes with many helpful analytics libraries installed\n",
    "# It is defined by the kaggle/python docker image: https://github.com/kaggle/docker-python\n",
    "# For example, here's several helpful packages to load in \n",
    "\n",
    "import numpy as np # linear algebra\n",
    "import pandas as pd # data processing, CSV file I/O (e.g. pd.read_csv)\n",
    "\n",
    "# Input data files are available in the \"../input/\" directory.\n",
    "# For example, running this (by clicking run or pressing Shift+Enter) will list all files under the input directory\n",
    "\n",
    "import os\n",
    "for dirname, _, filenames in os.walk('/kaggle/input'):\n",
    "    for filename in filenames:\n",
    "        print(os.path.join(dirname, filename))\n",
    "\n",
    "# Any results you write to the current directory are saved as output."
   ]
  },
  {
   "cell_type": "code",
   "execution_count": 2,
   "metadata": {
    "_cell_guid": "79c7e3d0-c299-4dcb-8224-4455121ee9b0",
    "_uuid": "d629ff2d2480ee46fbb7e2d37f6b5fab8052498a"
   },
   "outputs": [],
   "source": [
    "#import seaborn as sns\n",
    "#import matplotlib.pyplot as plt\n",
    "#import nltk\n",
    "#from sklearn.preprocessing  import LabelBinarizer, LabelEncoder, StandardScaler, MinMaxScaler\n",
    "#from sklearn.linear_model import LogisticRegression, SGDClassifier, LinearRegression\n",
    "#from sklearn.naive_bayes import MultinomalNB\n",
    "#from sklearn.svm import SVC\n",
    "#from sklearn.ensemble import RandomForestRegressor\n",
    "#from sklearn.metrics import classification_report,confusion\n"
   ]
  },
  {
   "cell_type": "code",
   "execution_count": 3,
   "metadata": {},
   "outputs": [],
   "source": [
    "train = pd.read_csv(\"../input/covid19-global-forecasting-week-4/train.csv\")\n",
    "test = pd.read_csv(\"../input/covid19-global-forecasting-week-4/test.csv\")\n",
    "submission = pd.read_csv(\"../input/covid19-global-forecasting-week-4/submission.csv\")\n"
   ]
  },
  {
   "cell_type": "code",
   "execution_count": 4,
   "metadata": {},
   "outputs": [],
   "source": [
    "#province state remove na\n",
    "train['Province_State'].fillna(\" \", inplace = True)\n",
    "test['Province_State'].fillna(\" \",inplace = True)"
   ]
  },
  {
   "cell_type": "code",
   "execution_count": 5,
   "metadata": {},
   "outputs": [],
   "source": [
    "#adding the province with country\n",
    "train['Country_Region']=train['Country_Region']+' '+train['Province_State']\n",
    "test['Country_Region']=test['Country_Region']+' '+test['Province_State']\n",
    "train.drop(['Province_State'],axis = 1 , inplace = True)\n",
    "test.drop(['Province_State'],axis = 1 , inplace = True)"
   ]
  },
  {
   "cell_type": "code",
   "execution_count": 6,
   "metadata": {},
   "outputs": [],
   "source": [
    "# Converting Date for use(strin to int)\n",
    "split_data_train = train[\"Date\"].str.split(\"-\").to_list()\n",
    "split_data_test = test[\"Date\"].str.split(\"-\").to_list()\n",
    "train_date = pd.DataFrame(split_data_train, columns=[\"Year\",\"Month\",\"Date\"])\n",
    "test_date = pd.DataFrame(split_data_test, columns=[\"Year\",\"Month\",\"Date\"])\n",
    "del train_date[\"Year\"]\n",
    "del test_date[\"Year\"]\n",
    "train_date['Month']=train_date['Month'].astype(int)\n",
    "test_date['Month']=test_date['Month'].astype(int)\n",
    "train_date['Date']=train_date['Date'].astype(int)\n",
    "test_date['Date']=test_date['Date'].astype(int)\n",
    "del train[\"Date\"]\n",
    "del test[\"Date\"]\n",
    "train = pd.concat([train,train_date],axis=1)\n",
    "test = pd.concat([test,test_date],axis=1)\n"
   ]
  },
  {
   "cell_type": "code",
   "execution_count": 7,
   "metadata": {},
   "outputs": [],
   "source": [
    "train_Id = train[\"Id\"]\n",
    "del train[\"Id\"]\n",
    "test_Id = test[\"ForecastId\"]\n",
    "del test[\"ForecastId\"]"
   ]
  },
  {
   "cell_type": "code",
   "execution_count": 8,
   "metadata": {},
   "outputs": [],
   "source": [
    "train_x_full = train[['Country_Region','Month','Date']].copy()\n",
    "train_y_full = train[['ConfirmedCases','Fatalities']].copy()"
   ]
  },
  {
   "cell_type": "code",
   "execution_count": 9,
   "metadata": {},
   "outputs": [],
   "source": [
    "from sklearn.preprocessing import LabelEncoder\n",
    "le = LabelEncoder()\n",
    "train_x_full['Country_Region']=le.fit_transform(train_x_full['Country_Region'])\n",
    "test['Country_Region']=le.transform(test['Country_Region'])"
   ]
  },
  {
   "cell_type": "code",
   "execution_count": 10,
   "metadata": {},
   "outputs": [],
   "source": [
    "from sklearn.model_selection import train_test_split\n",
    "x_train ,x_valid, y_train , y_valid = train_test_split(train_x_full , train_y_full , train_size = 0.85 , test_size = 0.15 )"
   ]
  },
  {
   "cell_type": "code",
   "execution_count": 11,
   "metadata": {},
   "outputs": [],
   "source": [
    "from sklearn.metrics import mean_absolute_error\n",
    "from sklearn.linear_model import LinearRegression\n",
    "from sklearn.ensemble import RandomForestRegressor\n",
    "from xgboost import XGBRegressor"
   ]
  },
  {
   "cell_type": "code",
   "execution_count": 12,
   "metadata": {},
   "outputs": [
    {
     "name": "stdout",
     "output_type": "stream",
     "text": [
      "1156.1521636658395\n"
     ]
    }
   ],
   "source": [
    "model = LinearRegression()\n",
    "model.fit(x_train,y_train)\n",
    "preds = model.predict(x_valid)\n",
    "print(mean_absolute_error(preds,y_valid))"
   ]
  },
  {
   "cell_type": "code",
   "execution_count": 13,
   "metadata": {},
   "outputs": [
    {
     "name": "stdout",
     "output_type": "stream",
     "text": [
      "64.08890834178494\n"
     ]
    }
   ],
   "source": [
    "model = RandomForestRegressor(n_estimators = 1000)\n",
    "model.fit(x_train,y_train)\n",
    "preds = model.predict(x_valid)\n",
    "print(mean_absolute_error(preds,y_valid))"
   ]
  },
  {
   "cell_type": "code",
   "execution_count": 14,
   "metadata": {},
   "outputs": [
    {
     "name": "stdout",
     "output_type": "stream",
     "text": [
      "57.84380573689046\n"
     ]
    }
   ],
   "source": [
    "model = XGBRegressor(n_estimators = 500, max_depth = 35)\n",
    "CC = y_train.ConfirmedCases\n",
    "fatalities = y_train.Fatalities\n",
    "model.fit(x_train, CC)\n",
    "predCC = model.predict(x_valid)\n",
    "model.fit(x_train, fatalities)\n",
    "predfa = model.predict(x_valid)\n",
    "p = pd.DataFrame({'ConfirmedCases': predCC, 'Fatalities' : predfa})\n",
    "print(mean_absolute_error(y_valid, p))"
   ]
  },
  {
   "cell_type": "code",
   "execution_count": 15,
   "metadata": {},
   "outputs": [],
   "source": [
    "CC = train_y_full.ConfirmedCases\n",
    "fatalities = train_y_full.Fatalities\n",
    "model.fit(train_x_full, CC)\n",
    "predCC = model.predict(test)\n",
    "model.fit(train_x_full, fatalities)\n",
    "predfa = model.predict(test)\n",
    "output = pd.DataFrame({'ForecastId': test_Id,'ConfirmedCases': predCC, 'Fatalities' : predfa})\n",
    "output = np.around(output , decimals = 0)\n",
    "output.to_csv('submission.csv', index=False)"
   ]
  }
 ],
 "metadata": {
  "kernelspec": {
   "display_name": "Python 3",
   "language": "python",
   "name": "python3"
  },
  "language_info": {
   "codemirror_mode": {
    "name": "ipython",
    "version": 3
   },
   "file_extension": ".py",
   "mimetype": "text/x-python",
   "name": "python",
   "nbconvert_exporter": "python",
   "pygments_lexer": "ipython3",
   "version": "3.6.6"
  }
 },
 "nbformat": 4,
 "nbformat_minor": 4
}
